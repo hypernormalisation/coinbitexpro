{
 "cells": [
  {
   "cell_type": "markdown",
   "metadata": {},
   "source": [
    "# Ticker client\n",
    "\n",
    "A notebook demonstrating asynchronous algorithms to maintain a \"local\" copy of the ticker data from the server.\n",
    "\n",
    "We detail algorithms for two different levels of hypothetical REST API support:\n",
    "- the exchange supports information on all tickers being downloaded in one request.\n",
    "- the exchange supports only a single ticker's information being downloaded in one request.\n",
    "\n",
    "Due to the ubiquity of REST API rate limitations, in the latter case it is usually infeasible to develop real-time information on all markets at once using the REST API alone.\n",
    "\n",
    "In both cases, the REST and websocket APIs can be combined to maintain real-time information on all markets."
   ]
  },
  {
   "cell_type": "code",
   "execution_count": 15,
   "metadata": {},
   "outputs": [],
   "source": [
    "import aiohttp\n",
    "import ast\n",
    "import asyncio\n",
    "import coinblockpro\n",
    "import copy\n",
    "import nest_asyncio\n",
    "import time\n",
    "import websockets\n",
    "\n",
    "nest_asyncio.apply()  # lets asyncio be run in Jupyter inside Tornado's event loop"
   ]
  },
  {
   "cell_type": "markdown",
   "metadata": {},
   "source": [
    "### Full-ticker\n",
    "\n",
    "The full-ticker algorithm first establishes the websocket client, and builds a buffer of the markets it has acuired information for, keeping only the latest.\n",
    "\n",
    "After a time-delay, the REST API is contacted once to retrieve the ticker information. The buffer of websocket data is used to update the ticker information from the REST API.\n",
    "\n",
    "From this point on, so long as the websocket is maintained, the market information will be up-to-date."
   ]
  },
  {
   "cell_type": "code",
   "execution_count": 26,
   "metadata": {},
   "outputs": [],
   "source": [
    "class FullTicker:\n",
    "    \"\"\"Class to monitor an exchange's markets where the exchange\n",
    "    offers the ability to download info on all tickers at once over\n",
    "    the REST API.\n",
    "    \"\"\"\n",
    "    \n",
    "    def __init__(self):\n",
    "        self.ticker_data = {}  # market: price\n",
    "        self.rest_data = None\n",
    "\n",
    "    async def get_full_ticker(self):\n",
    "        \"\"\"Coroutine to fetch the full ticker over the REST API.\n",
    "        Sleep at beginning to give the websocket time to establish.\n",
    "        \"\"\"       \n",
    "        await asyncio.sleep(3)\n",
    "        url = 'http://0.0.0.0:8000/full_ticker'\n",
    "        \n",
    "        async with aiohttp.ClientSession() as session:\n",
    "            async with session.get(url) as response:\n",
    "                payload = await response.json()\n",
    "                if not response.status == 200:\n",
    "                    raise ValueError('Request failed!')\n",
    "                if not 'result' in payload:\n",
    "                    raise ValueError('Request error.')\n",
    "                self.rest_data = payload['result']\n",
    "                self.insert_rest_values(rest_data)\n",
    "            \n",
    "    def insert_rest_values(self, data):\n",
    "        \"\"\"Blocking function to insert the rest API data into the \n",
    "        ticker_data container.\"\"\"\n",
    "        print('assigning rest data')\n",
    "        temp_dict = copy.deepcopy(self.ticker_data)\n",
    "        self.ticker_data = data\n",
    "        for k, v in temp_dict.items():\n",
    "            self.ticker_data[k] = v\n",
    "        print('rest data assigned')\n",
    "            \n",
    "    async def subscribe(self, period):\n",
    "        \"\"\"Coroutine to subscribe to the websocket ticker feed for \n",
    "        the given period (in seconds).\"\"\"\n",
    "        print('establishing websocket feed')\n",
    "        time_now = time.time()\n",
    "        async with websockets.connect('ws://0.0.0.0:8001/ticker_feed') as ws:\n",
    "            while time.time() < time_now + period:\n",
    "                resp = await ws.recv()\n",
    "                my_dict = ast.literal_eval(resp)\n",
    "                for k, v in my_dict.items():\n",
    "                    print(f'Updating market {k} to price {v}')\n",
    "                    self.ticker_data[k] = v\n",
    "                \n",
    "    async def monitor_markets(self):\n",
    "        \"\"\"Monitor markets using the REST and websocket APIs.\"\"\"\n",
    "        await asyncio.gather(\n",
    "            self.get_full_ticker(),\n",
    "            self.subscribe(30)\n",
    "        )"
   ]
  },
  {
   "cell_type": "code",
   "execution_count": 27,
   "metadata": {},
   "outputs": [
    {
     "name": "stdout",
     "output_type": "stream",
     "text": [
      "establishing websocket feed\n",
      "Updating market dot_eur to price 2299.946\n",
      "Updating market btc_usd to price 8761.274\n",
      "assigning rest data\n",
      "rest data assigned\n",
      "Updating market btc_dot to price 479.393\n",
      "Updating market bch_eur to price 5299.653\n",
      "Updating market eur_usd to price 10908.104\n",
      "Updating market xlm_usd to price 1570.764\n",
      "Updating market btc_eth to price 2677.865\n",
      "Updating market btc_xrp to price 9774.694\n"
     ]
    }
   ],
   "source": [
    "f = FullTicker()\n",
    "asyncio.run(f.monitor_markets())"
   ]
  },
  {
   "cell_type": "code",
   "execution_count": 30,
   "metadata": {},
   "outputs": [
    {
     "data": {
      "text/plain": [
       "8761.274"
      ]
     },
     "execution_count": 30,
     "metadata": {},
     "output_type": "execute_result"
    }
   ],
   "source": [
    "ticker_data['btc_usd']"
   ]
  },
  {
   "cell_type": "code",
   "execution_count": null,
   "metadata": {},
   "outputs": [],
   "source": []
  }
 ],
 "metadata": {
  "kernelspec": {
   "display_name": "coinblockpro",
   "language": "python",
   "name": "coinblockpro"
  },
  "language_info": {
   "codemirror_mode": {
    "name": "ipython",
    "version": 3
   },
   "file_extension": ".py",
   "mimetype": "text/x-python",
   "name": "python",
   "nbconvert_exporter": "python",
   "pygments_lexer": "ipython3",
   "version": "3.8.5"
  }
 },
 "nbformat": 4,
 "nbformat_minor": 4
}
